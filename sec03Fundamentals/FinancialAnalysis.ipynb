{
 "cells": [
  {
   "cell_type": "code",
   "execution_count": null,
   "id": "d627dead",
   "metadata": {},
   "outputs": [],
   "source": [
    "#Data \n",
    "revenue = [14574.49, 7606.46, 8611.41, 9175.41, 8058.65, 8105.44, 11496.28, 9766.09, 10305.32, 14379.96, 10713.97, 15433.50]\n",
    "expenses = [12051.82, 5695.07, 12319.20, 12089.72, 8658.57, 840.20, 3285.73, 5821.12, 6976.93, 16618.61, 10054.37, 3803.96]\n",
    "\n",
    "'''\n",
    "- profit for each month\n",
    "- profit after tax for each month (the tax rate is 30%)\n",
    "- profit margin for each month - equals to profit after tax divided by revenue\n",
    "- good months - where the profit after tax was greater than the mean for the year\n",
    "- bad months - where the profit after tax was less than the mean for the year\n",
    "- the best month - where the profit after tax was max for the year\n",
    "- the worst month - where the profit after tax was min for the year\n",
    "'''"
   ]
  },
  {
   "cell_type": "code",
   "execution_count": 7,
   "id": "bc418c6e",
   "metadata": {},
   "outputs": [
    {
     "name": "stdout",
     "output_type": "stream",
     "text": [
      "[2522.67, 1911.3900000000003, -3707.790000000001, -2914.3099999999995, -599.9200000000001, 7265.24, 8210.550000000001, 3944.9700000000003, 3328.3899999999994, -2238.6500000000015, 659.5999999999985, 11629.54]\n"
     ]
    }
   ],
   "source": [
    "'''-  profit for each month'''\n",
    "profit = []\n",
    "for i  in range(len(revenue)):\n",
    "    profit.append(revenue[i] - expenses[i])\n",
    "print(profit)"
   ]
  },
  {
   "cell_type": "code",
   "execution_count": 9,
   "id": "801abf7a",
   "metadata": {},
   "outputs": [
    {
     "name": "stdout",
     "output_type": "stream",
     "text": [
      "[1765.8690000000001, 1337.9730000000004, -2595.4530000000004, -2040.0169999999998, -419.9440000000001, 5085.668, 5747.385, 2761.4790000000003, 2329.8729999999996, -1567.0550000000012, 461.719999999999, 8140.678000000001]\n"
     ]
    }
   ],
   "source": [
    "'''- profit after tax for each month (the tax rate is 30%)'''\n",
    "profit = []\n",
    "for i  in range(len(revenue)):\n",
    "    profit.append((revenue[i] - expenses[i])-((revenue[i] - expenses[i])*0.3))\n",
    "print(profit)\n"
   ]
  },
  {
   "cell_type": "code",
   "execution_count": 12,
   "id": "065d119b",
   "metadata": {},
   "outputs": [
    {
     "name": "stdout",
     "output_type": "stream",
     "text": [
      "Profit [1765.8690000000001, 1337.9730000000004, -2595.4530000000004, -2040.0169999999998, -419.9440000000001, 5085.668, 5747.385, 2761.4790000000003, 2329.8729999999996, -1567.0550000000012, 461.719999999999, 8140.678000000001]\n",
      "profit Margin [0.1211616324138958, 0.17589956431769843, -0.3013969837692086, -0.22233524169492153, -0.052110961513404865, 0.6274388558795081, 0.49993432658216397, 0.2827619856052934, 0.2260844884001661, -0.10897492065346505, 0.04309513653668986, 0.5274680403019406]\n"
     ]
    }
   ],
   "source": [
    "'''- profit margin for each month - equals to profit after tax divided by revenue'''\n",
    "profit = []\n",
    "profitMargin = []\n",
    "for i  in range(len(revenue)):\n",
    "    profit.append((revenue[i] - expenses[i])-((revenue[i] - expenses[i])*0.3))\n",
    "    \n",
    "for i in range(len(profit)):\n",
    "    profitMargin.append(profit[i]/revenue[i])\n",
    "print('Profit',profit)\n",
    "print('profit Margin',profitMargin)"
   ]
  },
  {
   "cell_type": "code",
   "execution_count": 18,
   "id": "94e79915",
   "metadata": {},
   "outputs": [
    {
     "name": "stdout",
     "output_type": "stream",
     "text": [
      "Profit:  [1765.8690000000001, 1337.9730000000004, -2595.4530000000004, -2040.0169999999998, -419.9440000000001, 5085.668, 5747.385, 2761.4790000000003, 2329.8729999999996, -1567.0550000000012, 461.719999999999, 8140.678000000001]\n",
      "profit Margin:  [0.1211616324138958, 0.17589956431769843, -0.3013969837692086, -0.22233524169492153, -0.052110961513404865, 0.6274388558795081, 0.49993432658216397, 0.2827619856052934, 0.2260844884001661, -0.10897492065346505, 0.04309513653668986, 0.5274680403019406]\n",
      "Good Months:  [1765.8690000000001, 5085.668, 5747.385, 2761.4790000000003, 2329.8729999999996, 8140.678000000001]\n"
     ]
    }
   ],
   "source": [
    "'''- good months - where the profit after tax was greater than the mean for the year'''\n",
    "profit = []\n",
    "profitMargin = []\n",
    "goodMonths = []\n",
    "for i  in range(len(revenue)):\n",
    "    profit.append((revenue[i] - expenses[i])-((revenue[i] - expenses[i])*0.3))\n",
    "    \n",
    "for i in range(len(profit)):\n",
    "    profitMargin.append(profit[i]/revenue[i])\n",
    "    \n",
    "    \n",
    "    \n",
    "for i in range(len(profit)):\n",
    "    if profit[i] > sum(profit)/len(profit):\n",
    "        goodMonths.append(profit[i])\n",
    "print('Profit: ',profit)\n",
    "print('profit Margin: ',profitMargin)\n",
    "print('Good Months: ',goodMonths)"
   ]
  },
  {
   "cell_type": "code",
   "execution_count": 23,
   "id": "430814d5",
   "metadata": {},
   "outputs": [
    {
     "name": "stdout",
     "output_type": "stream",
     "text": [
      "Profit:  [1765.8690000000001, 1337.9730000000004, -2595.4530000000004, -2040.0169999999998, -419.9440000000001, 5085.668, 5747.385, 2761.4790000000003, 2329.8729999999996, -1567.0550000000012, 461.719999999999, 8140.678000000001]\n",
      "profit Margin:  [0.1211616324138958, 0.17589956431769843, -0.3013969837692086, -0.22233524169492153, -0.052110961513404865, 0.6274388558795081, 0.49993432658216397, 0.2827619856052934, 0.2260844884001661, -0.10897492065346505, 0.04309513653668986, 0.5274680403019406]\n",
      "Bad Months:  [1337.9730000000004, -2595.4530000000004, -2040.0169999999998, -419.9440000000001, -1567.0550000000012, 461.719999999999]\n"
     ]
    }
   ],
   "source": [
    "'''- bad months - where the profit after tax was less than the mean for the year\n",
    "'''\n",
    "profit = []\n",
    "profitMargin = []\n",
    "badMonths = []\n",
    "for i  in range(len(revenue)):\n",
    "    profit.append((revenue[i] - expenses[i])-((revenue[i] - expenses[i])*0.3))\n",
    "    \n",
    "for i in range(len(profit)):\n",
    "    profitMargin.append(profit[i]/revenue[i])\n",
    "    \n",
    "    \n",
    "    \n",
    "for i in range(len(profit)):\n",
    "    if profit[i] < sum(profit)/len(profit):\n",
    "        badMonths.append(profit[i])\n",
    "\n",
    "print('Profit: ',profit)\n",
    "print('profit Margin: ',profitMargin)\n",
    "print('Bad Months: ',badMonths)"
   ]
  },
  {
   "cell_type": "code",
   "execution_count": 36,
   "id": "c9111179",
   "metadata": {},
   "outputs": [
    {
     "name": "stdout",
     "output_type": "stream",
     "text": [
      "Best Month:  8140.678000000001\n"
     ]
    }
   ],
   "source": [
    "'''- the best month - where the profit after tax was max for the year\n",
    "'''\n",
    "profit = []\n",
    "profitMargin = []\n",
    "for i  in range(len(revenue)):\n",
    "    profit.append((revenue[i] - expenses[i])-((revenue[i] - expenses[i])*0.3))\n",
    "    \n",
    "for i in range(len(profit)):\n",
    "    profitMargin.append(profit[i]/revenue[i])\n",
    "    \n",
    "#quiero mostrar el indice del mes maximo\n",
    "bestMonth = max(profit)\n",
    "print('Best Month: ',bestMonth)\n"
   ]
  },
  {
   "cell_type": "code",
   "execution_count": null,
   "id": "806fe93b",
   "metadata": {},
   "outputs": [],
   "source": [
    "'''- the worst month - where the profit after tax was min for the year\n",
    "'''"
   ]
  }
 ],
 "metadata": {
  "kernelspec": {
   "display_name": "Python 3 (ipykernel)",
   "language": "python",
   "name": "python3"
  },
  "language_info": {
   "codemirror_mode": {
    "name": "ipython",
    "version": 3
   },
   "file_extension": ".py",
   "mimetype": "text/x-python",
   "name": "python",
   "nbconvert_exporter": "python",
   "pygments_lexer": "ipython3",
   "version": "3.9.13"
  }
 },
 "nbformat": 4,
 "nbformat_minor": 5
}
